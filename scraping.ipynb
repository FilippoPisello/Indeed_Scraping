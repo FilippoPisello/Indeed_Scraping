{
 "cells": [
  {
   "cell_type": "code",
   "execution_count": 1,
   "metadata": {},
   "outputs": [],
   "source": [
    "import requests\n",
    "from bs4 import BeautifulSoup, element\n",
    "\n",
    "import pandas as pd\n",
    "import numpy as np\n",
    "\n",
    "import src.scraping as scrap"
   ]
  },
  {
   "cell_type": "code",
   "execution_count": 2,
   "metadata": {},
   "outputs": [
    {
     "name": "stderr",
     "output_type": "stream",
     "text": [
      "100%|██████████| 284/284 [01:54<00:00,  2.49it/s]\n"
     ]
    }
   ],
   "source": [
    "jobs = scrap.main(\"data scientist\", numb_pages=20)"
   ]
  },
  {
   "cell_type": "code",
   "execution_count": 8,
   "metadata": {},
   "outputs": [
    {
     "data": {
      "text/plain": [
       "265"
      ]
     },
     "execution_count": 8,
     "metadata": {},
     "output_type": "execute_result"
    }
   ],
   "source": [
    "len([j.title for _, j in jobs.items() if j.title is not None])"
   ]
  },
  {
   "cell_type": "code",
   "execution_count": 2,
   "metadata": {},
   "outputs": [
    {
     "ename": "TypeError",
     "evalue": "unhashable type: 'set'",
     "output_type": "error",
     "traceback": [
      "\u001b[1;31m---------------------------------------------------------------------------\u001b[0m",
      "\u001b[1;31mTypeError\u001b[0m                                 Traceback (most recent call last)",
      "\u001b[1;32mc:\\Users\\filip\\File Filippo\\Progetti\\Python\\Git Projects\\Git_Indeed text analysis\\scraping.ipynb Cell 3'\u001b[0m in \u001b[0;36m<module>\u001b[1;34m\u001b[0m\n\u001b[1;32m----> <a href='vscode-notebook-cell:/c%3A/Users/filip/File%20Filippo/Progetti/Python/Git%20Projects/Git_Indeed%20text%20analysis/scraping.ipynb#ch0000031?line=0'>1</a>\u001b[0m \u001b[39mset\u001b[39;49m([\u001b[39m1\u001b[39;49m])\u001b[39m.\u001b[39;49madd(\u001b[39mset\u001b[39;49m([\u001b[39m2\u001b[39;49m, \u001b[39m3\u001b[39;49m]))\n",
      "\u001b[1;31mTypeError\u001b[0m: unhashable type: 'set'"
     ]
    }
   ],
   "source": [
    "set([1]).add(set([2, 3]))"
   ]
  },
  {
   "cell_type": "code",
   "execution_count": 85,
   "metadata": {},
   "outputs": [],
   "source": [
    "page = requests.get(\"https://uk.indeed.com/viewjob?jk=6ed3255bc10ff0dd\")\n",
    "soup = BeautifulSoup(page.content, \"html.parser\")"
   ]
  },
  {
   "cell_type": "code",
   "execution_count": 72,
   "metadata": {},
   "outputs": [
    {
     "data": {
      "text/plain": [
       "'Research Data Scientist'"
      ]
     },
     "execution_count": 72,
     "metadata": {},
     "output_type": "execute_result"
    }
   ],
   "source": [
    "soup.find(\"h1\", {\"class\": \"jobsearch-JobInfoHeader-title\"}).text"
   ]
  },
  {
   "cell_type": "code",
   "execution_count": 73,
   "metadata": {},
   "outputs": [
    {
     "data": {
      "text/plain": [
       "'University of Oxford'"
      ]
     },
     "execution_count": 73,
     "metadata": {},
     "output_type": "execute_result"
    }
   ],
   "source": [
    "soup.find(\"div\", {\"class\" : \"jobsearch-CompanyReview--heading\"}).text"
   ]
  },
  {
   "cell_type": "code",
   "execution_count": 74,
   "metadata": {},
   "outputs": [
    {
     "data": {
      "text/plain": [
       "4.2"
      ]
     },
     "execution_count": 74,
     "metadata": {},
     "output_type": "execute_result"
    }
   ],
   "source": [
    "float(soup.find(\"meta\", {\"itemprop\" : \"ratingValue\"})[\"content\"])"
   ]
  },
  {
   "cell_type": "code",
   "execution_count": 75,
   "metadata": {},
   "outputs": [
    {
     "data": {
      "text/plain": [
       "'109'"
      ]
     },
     "execution_count": 75,
     "metadata": {},
     "output_type": "execute_result"
    }
   ],
   "source": [
    "soup.find(\"meta\", {\"itemprop\" : \"ratingCount\"})[\"content\"]"
   ]
  },
  {
   "cell_type": "code",
   "execution_count": 77,
   "metadata": {},
   "outputs": [
    {
     "ename": "AttributeError",
     "evalue": "'NoneType' object has no attribute 'get'",
     "output_type": "error",
     "traceback": [
      "\u001b[1;31m---------------------------------------------------------------------------\u001b[0m",
      "\u001b[1;31mAttributeError\u001b[0m                            Traceback (most recent call last)",
      "\u001b[1;32mc:\\Users\\filip\\File Filippo\\Progetti\\Python\\Git Projects\\Git_Indeed text analysis\\scraping.ipynb Cell 7'\u001b[0m in \u001b[0;36m<module>\u001b[1;34m\u001b[0m\n\u001b[1;32m----> <a href='vscode-notebook-cell:/c%3A/Users/filip/File%20Filippo/Progetti/Python/Git%20Projects/Git_Indeed%20text%20analysis/scraping.ipynb#ch0000018?line=0'>1</a>\u001b[0m soup\u001b[39m.\u001b[39;49mfind(\u001b[39m\"\u001b[39;49m\u001b[39mspan\u001b[39;49m\u001b[39m\"\u001b[39;49m, {\u001b[39m\"\u001b[39;49m\u001b[39mclass\u001b[39;49m\u001b[39m\"\u001b[39;49m:\u001b[39m\"\u001b[39;49m\u001b[39mattribute_snippet\u001b[39;49m\u001b[39m\"\u001b[39;49m})\u001b[39m.\u001b[39;49mget(\u001b[39m\"\u001b[39m\u001b[39mtext\u001b[39m\u001b[39m\"\u001b[39m)\n",
      "\u001b[1;31mAttributeError\u001b[0m: 'NoneType' object has no attribute 'get'"
     ]
    }
   ],
   "source": [
    "soup.find(\"span\", {\"class\":\"attribute_snippet\"}).text"
   ]
  },
  {
   "cell_type": "code",
   "execution_count": 70,
   "metadata": {},
   "outputs": [
    {
     "data": {
      "text/plain": [
       "['Full-time', 'Temporary']"
      ]
     },
     "execution_count": 70,
     "metadata": {},
     "output_type": "execute_result"
    }
   ],
   "source": [
    "soup.find(\"span\", {\"class\":\"jobsearch-JobMetadataHeader-item\"}).text.replace(\" -  \", \"\").split(\", \")"
   ]
  },
  {
   "cell_type": "code",
   "execution_count": 83,
   "metadata": {},
   "outputs": [
    {
     "data": {
      "text/plain": [
       "'Two part time roles 0.4 FTE, 15 hours per week\\nFixed-term for 12 months\\n\\nWe are looking for outstanding candidates to fill two part-time research data scientist positions. These candidates will work closely with the FOMI academic team on data-intensive research projects. This is an excellent opportunity to gain academic research experience in business/marketing/technology, to learn from one of the world’s leading groups of academic researchers in marketing, and to work on research projects in collaboration with FOMI industry partners that will have significant impacts on their businesses.\\n\\nThe ideal candidate for these roles will have practical experience with quantitative/empirical modelling techniques, working with large datasets, and have a background in one or more fields such as statistics, machine learning, econometrics, applied computer science, or quantitative/computational social science. Experience with data science work on research projects (either in academia or in commercial settings) is a plus.\\n\\nIn addition to data science work on projects, the FOMI Research Data Scientists will have responsibility for the day-to-day data-related operations of the FOMI group (e.g., developing and supporting internal data- and code-bases, and documentation), and will be asked to support the academic team on data-related aspects of research communication (e.g., preparing tables and figures, data visualisations).\\n\\nThe FOMI Research Data Scientist posts are fully funded by the Oxford Future of Marketing Initiative, and the post holders will be a member of the Saïd Business School’s research community with access to internal research seminars and other professional development opportunities from time to time.\\n\\nThe two positions are part-time to allow for flexibility in addition to other commitments, such as studying for a relevant graduate degree (Masters or Doctorate level).\\n\\nTo apply for this role and for further details, including a job description and person specification, please click on the link: https://How to apply\\n\\nApplications for this vacancy are to be made online. Please submit your CV and supporting statement along with two academic references with your application.'"
      ]
     },
     "execution_count": 83,
     "metadata": {},
     "output_type": "execute_result"
    }
   ],
   "source": [
    "soup.find(\"div\", {\"id\":\"jobDescriptionText\"}).text"
   ]
  },
  {
   "cell_type": "code",
   "execution_count": 46,
   "metadata": {},
   "outputs": [
    {
     "data": {
      "text/plain": [
       "856"
      ]
     },
     "execution_count": 46,
     "metadata": {},
     "output_type": "execute_result"
    }
   ],
   "source": [
    "len(soup.find(\"div\", {\"id\":\"jobDescriptionText\"}).text)"
   ]
  },
  {
   "cell_type": "code",
   "execution_count": 78,
   "metadata": {},
   "outputs": [
    {
     "data": {
      "text/plain": [
       "bs4.element.Tag"
      ]
     },
     "execution_count": 78,
     "metadata": {},
     "output_type": "execute_result"
    }
   ],
   "source": [
    "type(soup.find(\"div\", {\"id\":\"jobDescriptionText\"}))"
   ]
  },
  {
   "cell_type": "code",
   "execution_count": 88,
   "metadata": {},
   "outputs": [],
   "source": [
    "from dataclasses import dataclass\n",
    "\n",
    "from bs4 import BeautifulSoup\n",
    "\n",
    "@dataclass\n",
    "class JobPost:\n",
    "    job_id: str\n",
    "    title: str\n",
    "    company: str\n",
    "    salary: str\n",
    "    rating_value: float\n",
    "    rating_count: int\n",
    "    contract_type: list[str]\n",
    "    description: str\n",
    "\n",
    "    @classmethod\n",
    "    def from_job_soup(cls, job_soup: BeautifulSoup, job_id: str):\n",
    "        title = cls.text_if_not_none(job_soup.find(\"h1\",\n",
    "                                                   {\"class\": \"jobsearch-JobInfoHeader-title\"}))\n",
    "        company = cls.text_if_not_none(job_soup.find(\"div\",\n",
    "                                                     {\"class\" : \"jobsearch-CompanyReview--heading\"}))\n",
    "        salary = cls.text_if_not_none(job_soup.find(\"span\",\n",
    "                                                    {\"class\":\"attribute_snippet\"}))\n",
    "        rating_value = float(cls.text_if_not_none(job_soup.find(\"meta\",\n",
    "                                                          {\"itemprop\" : \"ratingValue\"}), as_content=True))\n",
    "        rating_count = int(cls.text_if_not_none(job_soup.find(\"meta\",\n",
    "                                                              {\"itemprop\" : \"ratingCount\"}), as_content=True))\n",
    "        contract_type = cls.text_if_not_none(job_soup.find(\"span\",\n",
    "                                                           {\"class\":\"jobsearch-JobMetadataHeader-item\"})).replace(\" -  \", \"\").split(\", \")\n",
    "        contract_type = [c for c in contract_type if len(c) > 3]\n",
    "        description = cls.text_if_not_none(soup.find(\"div\", {\"id\":\"jobDescriptionText\"}))\n",
    "        return cls(job_id=job_id,\n",
    "                   title=title,\n",
    "                   company=company,\n",
    "                   salary=salary,\n",
    "                   rating_value=rating_value,\n",
    "                   rating_count=rating_count,\n",
    "                   contract_type=contract_type,\n",
    "                   description=description\n",
    "                   )\n",
    "        \n",
    "    @staticmethod\n",
    "    def text_if_not_none(soup_search: element.Tag | None, as_content: bool = False):\n",
    "        if soup_search is not None:\n",
    "            if as_content:\n",
    "                return soup_search[\"content\"]\n",
    "            return soup_search.text\n",
    "        return None\n",
    "        "
   ]
  },
  {
   "cell_type": "code",
   "execution_count": 90,
   "metadata": {},
   "outputs": [],
   "source": [
    "post = JobPost.from_job_soup(soup, 12)"
   ]
  },
  {
   "cell_type": "code",
   "execution_count": 94,
   "metadata": {},
   "outputs": [
    {
     "data": {
      "text/plain": [
       "{'job_id': 12,\n",
       " 'title': 'Research Data Scientist',\n",
       " 'company': 'University of Oxford',\n",
       " 'salary': None,\n",
       " 'rating_value': 4.2,\n",
       " 'rating_count': 109,\n",
       " 'contract_type': ['Part-time', 'Fixed term'],\n",
       " 'description': 'Two part time roles 0.4 FTE, 15 hours per week\\nFixed-term for 12 months\\n\\nWe are looking for outstanding candidates to fill two part-time research data scientist positions. These candidates will work closely with the FOMI academic team on data-intensive research projects. This is an excellent opportunity to gain academic research experience in business/marketing/technology, to learn from one of the world’s leading groups of academic researchers in marketing, and to work on research projects in collaboration with FOMI industry partners that will have significant impacts on their businesses.\\n\\nThe ideal candidate for these roles will have practical experience with quantitative/empirical modelling techniques, working with large datasets, and have a background in one or more fields such as statistics, machine learning, econometrics, applied computer science, or quantitative/computational social science. Experience with data science work on research projects (either in academia or in commercial settings) is a plus.\\n\\nIn addition to data science work on projects, the FOMI Research Data Scientists will have responsibility for the day-to-day data-related operations of the FOMI group (e.g., developing and supporting internal data- and code-bases, and documentation), and will be asked to support the academic team on data-related aspects of research communication (e.g., preparing tables and figures, data visualisations).\\n\\nThe FOMI Research Data Scientist posts are fully funded by the Oxford Future of Marketing Initiative, and the post holders will be a member of the Saïd Business School’s research community with access to internal research seminars and other professional development opportunities from time to time.\\n\\nThe two positions are part-time to allow for flexibility in addition to other commitments, such as studying for a relevant graduate degree (Masters or Doctorate level).\\n\\nTo apply for this role and for further details, including a job description and person specification, please click on the link: https://How to apply\\n\\nApplications for this vacancy are to be made online. Please submit your CV and supporting statement along with two academic references with your application.'}"
      ]
     },
     "execution_count": 94,
     "metadata": {},
     "output_type": "execute_result"
    }
   ],
   "source": [
    "post.__dict__"
   ]
  },
  {
   "cell_type": "code",
   "execution_count": null,
   "metadata": {},
   "outputs": [],
   "source": []
  }
 ],
 "metadata": {
  "interpreter": {
   "hash": "4607ad94fd0ac577a7c39554a6c69f79cb4edb30a565cad9a3a62b586a3fdacc"
  },
  "kernelspec": {
   "display_name": "Python 3.10.1 ('venv': venv)",
   "language": "python",
   "name": "python3"
  },
  "language_info": {
   "codemirror_mode": {
    "name": "ipython",
    "version": 3
   },
   "file_extension": ".py",
   "mimetype": "text/x-python",
   "name": "python",
   "nbconvert_exporter": "python",
   "pygments_lexer": "ipython3",
   "version": "3.10.1"
  },
  "orig_nbformat": 4
 },
 "nbformat": 4,
 "nbformat_minor": 2
}
