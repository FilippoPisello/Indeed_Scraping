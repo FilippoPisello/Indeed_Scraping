{
 "cells": [
  {
   "cell_type": "code",
   "execution_count": 3,
   "metadata": {},
   "outputs": [],
   "source": [
    "import json"
   ]
  },
  {
   "cell_type": "code",
   "execution_count": 4,
   "metadata": {},
   "outputs": [],
   "source": [
    "json_file_path = \"searches_results\\saved_jobs_business analyst_.json\""
   ]
  },
  {
   "cell_type": "code",
   "execution_count": 6,
   "metadata": {},
   "outputs": [],
   "source": [
    "with open(json_file_path, encoding='utf-8') as f:\n",
    "    data = json.load(f)"
   ]
  },
  {
   "cell_type": "code",
   "execution_count": 8,
   "metadata": {},
   "outputs": [],
   "source": [
    "def extract_info(jobs_dict: dict, key: str):\n",
    "    return [job[key] for _, job in jobs_dict.items()]"
   ]
  },
  {
   "cell_type": "code",
   "execution_count": 12,
   "metadata": {},
   "outputs": [
    {
     "data": {
      "text/plain": [
       "[\"Reference\\nVN-21609\\nRole Type\\nPermanent\\nLocation\\nLondon, Home Based\\nSalary\\n£75,000 to £85,000\\nClosing Date\\n25 February 2022\\nYour role at a glance\\nAre you a Business Analyst with experience in portfolio construction, portfolio management or risk management systems? Are you a BA whose experience primarily lies in Asset Management and you’re familiar with Agile ways of working?\\nWe have an exciting opportunity to join us at an exciting time as we develop our Liability Driven Investment approach; evolving our services including our fund management system to capture market share in growth areas and continue to service our clients on their de-risking journey!\\nWe're working from home at the moment, but would expect you to be comfortable travelling into our London offices at least once a week.\\n\\nWhat you'll be doing\\nIdentifying innovative, effective and scalable approaches to tackle business change problems\\nCapturing as-is and to-be operating models; incorporating processes, organisation, technology and information themes, using a variety of business analysis techniques.\\nActing in a business consultancy capacity; managing competing requirements, configuring and managing workshops\\nDeriving and defining high level business requirements, mapping out appropriate Epics and User Stories to support delivery. Look for re-use opportunities and identify appropriate value streams\\nLiaise with technical delivery teams throughout the change lifecycle; manage the relationships\\nSupport creation of test planning and scripts. Promote BDD, TDD and other similar techniques, as appropriate\\nValidating technical resource requirements and cost estimates for analysis and other deliverables whilst, assessing and critiquing the estimates of others\\nWhat we're looking for\\nMin 5 years of experience as an IT BA or in Front Office IT\\nBusiness knowledge of Fixed Income products, Currency Hedging and Fixed Income Derivatives\\nExposure to and knowledge of Portfolio/Risk management concepts.\\nData management and SQL\\nExperience in interacting with Portfolio Managers and ability to prioritise competing asks\\nMust be able to formulate Epics & Stories and refine them with Devs and QAs.\\nAbility to take responsibility and work independently in a high-pressure, time-critical environment\\nBenefits\\nWhatever your role, we reward ability, performance and attitude with a package that looks after all the things that are important to you. Our employees have a wide range of benefits including a generous pension scheme, life assurance, 27 days' holiday, private medical insurance, performance related bonuses, a variety of share schemes, discounts at both a huge range of high street stores and our own great products. Your hard work will be rewarded when you join us.\",\n",
       " 'Business Analyst - Business Relationship Management\\nLancashire\\nUp to £615.00 daily Inside IR35\\nContract\\nI am looking for an experience Business Relationship Analyst. This role is a critical member of the Business Relationship Management Team, which is responsible for the ongoing management of strategic and small work requests.\\n\\nResponsibilities\\n\\n\\nAssist the Business Relationship managers with identifying business value\\nPresent ideas and findings at relevant meetings\\nCreate functional specifications for new processes and/or systems\\nAdopt and adhere to established principles and standards for design, branding, architecture and documentation.\\n\\nExperience\\n\\n\\nExperience of working in and IT environment undertaking business analysis and design activities.\\nDegree qualified in the relevant subject or relevant work experience.\\nAn excellent communicator at all levels\\nAn effective team player\\n\\nA flexible approach to working is needed for this position as additional hours of work may be required outside of your normal working pattern to meet business needs.\\n\\nPlease contact Mark on the following if you wish to discuss the role further.\\nTel 0161 667 0022, email',\n",
       " \"Our people work differently depending on their jobs and needs. From home working to job sharing, visit the remote and flexible working page on our website to find out more.\\nThis role is based in the United Kingdom and as such all normal working days must be carried out in the United Kingdom.\\nJoin us as a Business Analyst\\nThis is an opportunity for a driven Business Analyst to join us and make a tangible impact on our function\\nYou’ll have great exposure to a wide network of stakeholders of varying seniority\\nIt’s a chance to develop your skills and advance your career in this fast paced role\\nWhat you'll do\\nYou’ll support the bank to achieve customer advocacy by eliciting and understanding the internal and external technology customer needs, and analysing, refining, synthesising, translating and ensuring they are documented in a form that can be readily understood by all stakeholders.\\nYou’ll also:\\nSupport others to articulate the ideas and requirements in the format required by the team, such as use cases, user journeys, user stories and illustrations\\nBe responsible for the outcomes of the team in the identification and delivery of systems, solutions and features\\nProduce business requirements to inform future state design, and supporting teams in understanding the requirements and their linkages to the overall strategy\\nWork across teams and stakeholders to capture, validate and document business and system requirements, ensuring they are in line with key strategic principles, and translated from business operations, business objectives, or from external requirements\\nInteract with customers, key stakeholders and the team to obtain and document functional and non-functional needs\\nThe skills you'll need\\nTo take on this role, you’ll need an appropriate business analyst certification.\\nYou’ll also need:\\nProven application of business analysis tools and techniques\\nA good understanding of Agile values, principles and methodologies with experience of working within an Agile environment\\nTo be a very capable communicator with the ability to communicate complex technical concepts clearly to your peers and management level colleagues\\nGood collaboration and stakeholder management skills\\nIf you need any adjustments to support your application, such as information in alternative formats or special requirements to access our buildings, or if you’re eligible under the Disability Confident Scheme please contact us and we’ll do everything we can to help.\"]"
      ]
     },
     "execution_count": 12,
     "metadata": {},
     "output_type": "execute_result"
    }
   ],
   "source": [
    "descriptions_list = extract_info(data, \"description\")\n",
    "descriptions_list[:3]"
   ]
  },
  {
   "cell_type": "code",
   "execution_count": null,
   "metadata": {},
   "outputs": [],
   "source": [
    "\" \".join(descriptions_list)"
   ]
  }
 ],
 "metadata": {
  "interpreter": {
   "hash": "4607ad94fd0ac577a7c39554a6c69f79cb4edb30a565cad9a3a62b586a3fdacc"
  },
  "kernelspec": {
   "display_name": "Python 3.10.1 ('venv': venv)",
   "language": "python",
   "name": "python3"
  },
  "language_info": {
   "codemirror_mode": {
    "name": "ipython",
    "version": 3
   },
   "file_extension": ".py",
   "mimetype": "text/x-python",
   "name": "python",
   "nbconvert_exporter": "python",
   "pygments_lexer": "ipython3",
   "version": "3.10.1"
  },
  "orig_nbformat": 4
 },
 "nbformat": 4,
 "nbformat_minor": 2
}
